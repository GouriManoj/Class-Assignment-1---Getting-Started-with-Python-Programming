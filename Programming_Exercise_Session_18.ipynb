{
  "nbformat": 4,
  "nbformat_minor": 0,
  "metadata": {
    "colab": {
      "name": "Programming_Exercise_Session_18.ipynb",
      "provenance": [],
      "collapsed_sections": [],
      "include_colab_link": true
    },
    "kernelspec": {
      "name": "python3",
      "display_name": "Python 3"
    }
  },
  "cells": [
    {
      "cell_type": "markdown",
      "metadata": {
        "id": "view-in-github",
        "colab_type": "text"
      },
      "source": [
        "<a href=\"https://colab.research.google.com/github/GouriManoj/Class-Assignment-1---Getting-Started-with-Python-Programming/blob/master/Programming_Exercise_Session_18.ipynb\" target=\"_parent\"><img src=\"https://colab.research.google.com/assets/colab-badge.svg\" alt=\"Open In Colab\"/></a>"
      ]
    },
    {
      "cell_type": "markdown",
      "metadata": {
        "id": "kQ0ntb3pcBIQ"
      },
      "source": [
        "#Write a Python program to get the largest number from a list"
      ]
    },
    {
      "cell_type": "code",
      "metadata": {
        "id": "O262clBmccWy"
      },
      "source": [
        "def max_num_in_list( list ):\n",
        "    max = list[ 0 ]\n",
        "    for a in list:\n",
        "        if a > max:\n",
        "            max = a\n",
        "    return max"
      ],
      "execution_count": null,
      "outputs": []
    },
    {
      "cell_type": "code",
      "metadata": {
        "id": "2t_AhJ7X9_d3",
        "outputId": "74f651c2-62ec-440b-abe7-f326e4860e7d",
        "colab": {
          "base_uri": "https://localhost:8080/",
          "height": 35
        }
      },
      "source": [
        "print(max_num_in_list([1, 2, -8, 0, 3, 3]))"
      ],
      "execution_count": null,
      "outputs": [
        {
          "output_type": "stream",
          "text": [
            "3\n"
          ],
          "name": "stdout"
        }
      ]
    },
    {
      "cell_type": "markdown",
      "metadata": {
        "id": "Tn1-OTsChQtw"
      },
      "source": [
        "#Write a Python code to search an element in a list."
      ]
    },
    {
      "cell_type": "code",
      "metadata": {
        "id": "pZ2dsfE9iK8v"
      },
      "source": [
        "def Sequential_Search(dlist, item):\n",
        "    pos = 0\n",
        "    found = False\n",
        "    \n",
        "    while pos < len(dlist) and not found:\n",
        "        if dlist[pos] == item:\n",
        "            found = True\n",
        "        else:\n",
        "            pos = pos + 1\n",
        "    \n",
        "    return found, pos"
      ],
      "execution_count": null,
      "outputs": []
    },
    {
      "cell_type": "code",
      "metadata": {
        "id": "18xmZjUD-KCB",
        "outputId": "4f809c96-d409-400d-84ce-287f4f0fa9d6",
        "colab": {
          "base_uri": "https://localhost:8080/",
          "height": 35
        }
      },
      "source": [
        "print(Sequential_Search([11,23,58,31,56,77,43,12,65,19],31))"
      ],
      "execution_count": null,
      "outputs": [
        {
          "output_type": "stream",
          "text": [
            "(True, 3)\n"
          ],
          "name": "stdout"
        }
      ]
    },
    {
      "cell_type": "markdown",
      "metadata": {
        "id": "U35Re4_ecmNi"
      },
      "source": [
        "#Write a Python program to sum all the items in a list"
      ]
    },
    {
      "cell_type": "code",
      "metadata": {
        "id": "qazIudSqckmP",
        "outputId": "89fe888e-0028-4ec0-dc02-8dd415f89c8f",
        "colab": {
          "base_uri": "https://localhost:8080/",
          "height": 35
        }
      },
      "source": [
        "def sum_list(items):\n",
        "    sum = 0\n",
        "    for x in items:\n",
        "        sum += x\n",
        "    return sum\n",
        "print(sum_list([1,2,4,8]))\n"
      ],
      "execution_count": null,
      "outputs": [
        {
          "output_type": "stream",
          "text": [
            "15\n"
          ],
          "name": "stdout"
        }
      ]
    },
    {
      "cell_type": "markdown",
      "metadata": {
        "id": "2uwP5wmpgvLj"
      },
      "source": [
        "#Write a Python program to remove duplicates from a list"
      ]
    },
    {
      "cell_type": "code",
      "metadata": {
        "id": "1wtrwfay-uXS",
        "outputId": "d4d8ab5c-62af-450d-d7ae-dc8ca904050a",
        "colab": {
          "base_uri": "https://localhost:8080/",
          "height": 34
        }
      },
      "source": [
        "def Remove(duplicate): \n",
        "\tfinal_list = [] \n",
        "\tfor num in duplicate: \n",
        "\t\tif num not in final_list: \n",
        "\t\t\tfinal_list.append(num) \n",
        "\treturn final_list \n",
        "\t\n",
        "duplicate = [10,20,30,20,10,50,60,40,80,50,40]\n",
        "print(Remove(duplicate)) "
      ],
      "execution_count": null,
      "outputs": [
        {
          "output_type": "stream",
          "text": [
            "[10, 20, 30, 50, 60, 40, 80]\n"
          ],
          "name": "stdout"
        }
      ]
    },
    {
      "cell_type": "markdown",
      "metadata": {
        "id": "ojAZvV0Mg4kY"
      },
      "source": [
        "#Write a Python function that takes two lists and returns True if they have at least one common member."
      ]
    },
    {
      "cell_type": "code",
      "metadata": {
        "id": "qfrdrpKug1zV",
        "outputId": "d750d9e5-aa56-40b7-8d40-97152cffed00",
        "colab": {
          "base_uri": "https://localhost:8080/",
          "height": 51
        }
      },
      "source": [
        "def data(list1, list2):\n",
        "     result = False\n",
        "     for x in list1:\n",
        "         for y in list2:\n",
        "             if x == y:\n",
        "                 result = True\n",
        "                 return result\n",
        "print(data([1,2,3,4,5], [5,6,7,8,9]))\n",
        "print(data([1,2,3,4,5], [6,7,8,9]))\n"
      ],
      "execution_count": null,
      "outputs": [
        {
          "output_type": "stream",
          "text": [
            "True\n",
            "None\n"
          ],
          "name": "stdout"
        }
      ]
    },
    {
      "cell_type": "markdown",
      "metadata": {
        "id": "JMUutI6IhAct"
      },
      "source": [
        "#Write a Python program to append a list to the second list."
      ]
    },
    {
      "cell_type": "code",
      "metadata": {
        "id": "yzxRcIiRg7No",
        "outputId": "fde5e053-a6ef-4f24-8256-946257b3c875",
        "colab": {
          "base_uri": "https://localhost:8080/",
          "height": 34
        }
      },
      "source": [
        "list1 = [1, 2, 3, 0]\n",
        "list2 = ['Red', 'Green', 'Black']\n",
        "final_list = list1 + list2\n",
        "print(final_list)\n"
      ],
      "execution_count": null,
      "outputs": [
        {
          "output_type": "stream",
          "text": [
            "[1, 2, 3, 0, 'Red', 'Green', 'Black']\n"
          ],
          "name": "stdout"
        }
      ]
    },
    {
      "cell_type": "markdown",
      "metadata": {
        "id": "nybfDCgXikz-"
      },
      "source": [
        "#Write a Python program to check if a given number is a composite number or not?"
      ]
    },
    {
      "cell_type": "code",
      "metadata": {
        "id": "Z4l_8ViHhEcQ"
      },
      "source": [
        "def composite(n): \n",
        "\n",
        "  factor=0\n",
        "  for i in range(1,n):\n",
        "    if n%i==0:\n",
        "      factor=i\n",
        "  if factor>1:\n",
        "    print ('The number is a composite number!')\n",
        "  elif n==1:\n",
        "    print ('The number 1 is neither prime nor composite!')\n",
        "  else:\n",
        "    print ('This is not a composite number!')\n",
        "\n"
      ],
      "execution_count": null,
      "outputs": []
    },
    {
      "cell_type": "code",
      "metadata": {
        "id": "W7XxDi98ZnPU",
        "outputId": "658db411-c478-4032-9507-527b9b4bac40",
        "colab": {
          "base_uri": "https://localhost:8080/",
          "height": 35
        }
      },
      "source": [
        "composite(1)"
      ],
      "execution_count": null,
      "outputs": [
        {
          "output_type": "stream",
          "text": [
            "The number 1 is neither prime nor composite!\n"
          ],
          "name": "stdout"
        }
      ]
    },
    {
      "cell_type": "code",
      "metadata": {
        "id": "ObSCtAkE0ncb",
        "outputId": "95ff9c81-2d7a-4140-9c9d-ee385b6f8dae",
        "colab": {
          "base_uri": "https://localhost:8080/",
          "height": 35
        }
      },
      "source": [
        "composite(2)"
      ],
      "execution_count": null,
      "outputs": [
        {
          "output_type": "stream",
          "text": [
            "This is not a composite number!\n"
          ],
          "name": "stdout"
        }
      ]
    },
    {
      "cell_type": "code",
      "metadata": {
        "id": "uTeVSZlr0o7L",
        "outputId": "9a5860d6-d1e8-4187-843c-87a84c5e5076",
        "colab": {
          "base_uri": "https://localhost:8080/",
          "height": 35
        }
      },
      "source": [
        "composite(3)"
      ],
      "execution_count": null,
      "outputs": [
        {
          "output_type": "stream",
          "text": [
            "This is not a composite number!\n"
          ],
          "name": "stdout"
        }
      ]
    },
    {
      "cell_type": "code",
      "metadata": {
        "id": "jPpwnsz10qas",
        "outputId": "9fd93ed7-6df7-41a9-b180-4ecc44fa6d62",
        "colab": {
          "base_uri": "https://localhost:8080/",
          "height": 35
        }
      },
      "source": [
        "composite(4)"
      ],
      "execution_count": null,
      "outputs": [
        {
          "output_type": "stream",
          "text": [
            "The number is a composite number!\n"
          ],
          "name": "stdout"
        }
      ]
    },
    {
      "cell_type": "code",
      "metadata": {
        "id": "JiU5ZNu91Al7"
      },
      "source": [
        "def composite(n): \n",
        "  factor=0\n",
        "  print(\"n:\",n)\n",
        "  for i in range(1,n):\n",
        "    print(\"i:\",i)\n",
        "    if n%i==0:\n",
        "      print(\"Inside if loop\")\n",
        "      factor=i\n",
        "      print(\"Factor:\",factor)\n",
        "  print(\"After for loop: Value of factor\",factor)\n",
        "  if factor>1:\n",
        "    print (n,' is a composite number!')\n",
        "  elif n==1:\n",
        "    print ('The number 1 is neither prime nor composite!')\n",
        "  else:\n",
        "    print(factor)\n",
        "    print (n,' is not a composite number!')\n",
        "\n"
      ],
      "execution_count": null,
      "outputs": []
    },
    {
      "cell_type": "code",
      "metadata": {
        "id": "hZS5UgFQ1Mtd",
        "outputId": "0ff9a5e6-ee2c-429e-c91e-a8da5f8e45f5",
        "colab": {
          "base_uri": "https://localhost:8080/",
          "height": 225
        }
      },
      "source": [
        "composite(7)"
      ],
      "execution_count": null,
      "outputs": [
        {
          "output_type": "stream",
          "text": [
            "n: 7\n",
            "i: 1\n",
            "Inside if loop\n",
            "Factor: 1\n",
            "i: 2\n",
            "i: 3\n",
            "i: 4\n",
            "i: 5\n",
            "i: 6\n",
            "After for loop: Value of factor 1\n",
            "1\n",
            "7  is not a composite number!\n"
          ],
          "name": "stdout"
        }
      ]
    },
    {
      "cell_type": "markdown",
      "metadata": {
        "id": "Yw31JnkujMwT"
      },
      "source": [
        "#Write a Python code to add two matrices using list."
      ]
    },
    {
      "cell_type": "code",
      "metadata": {
        "id": "pivkvkDcjNBm"
      },
      "source": [
        "X = [[12,7,3],    [4 ,5,6],    [7 ,8,9]]\n",
        "Y = [[5,8,1],    [6,7,3],    [4,5,9]]\n",
        "\n",
        "result = [[0,0,0],  [0,0,0],  [0,0,0]]\n",
        "\n",
        "for i in range(len(X)):\n",
        "   for j in range(len(X[0])):\n",
        "       result[i][j] = X[i][j] + Y[i][j]"
      ],
      "execution_count": null,
      "outputs": []
    },
    {
      "cell_type": "code",
      "metadata": {
        "id": "U9WKET7BaMff",
        "outputId": "cceab4e0-4f6f-477f-880b-7ca2701f104f",
        "colab": {
          "base_uri": "https://localhost:8080/",
          "height": 34
        }
      },
      "source": [
        "print(result)"
      ],
      "execution_count": null,
      "outputs": [
        {
          "output_type": "stream",
          "text": [
            "[[17, 15, 4], [10, 12, 9], [11, 13, 18]]\n"
          ],
          "name": "stdout"
        }
      ]
    },
    {
      "cell_type": "markdown",
      "metadata": {
        "id": "fMHuaCc1jj4k"
      },
      "source": [
        "#Write a python program to check if a string is palindrome or not"
      ]
    },
    {
      "cell_type": "code",
      "metadata": {
        "id": "adqe9zkWilow"
      },
      "source": [
        "def palindrome(str):\n",
        "  #print (len(str)/2)\n",
        "  #print (int(len(str)/2))\n",
        "  for i in range(0, int(len(str)/2)): \n",
        "    if str[i] != str[len(str)-i-1]:\n",
        "      return \"Not Palindrome\"\n",
        "  return \"Palindrome\""
      ],
      "execution_count": null,
      "outputs": []
    },
    {
      "cell_type": "code",
      "metadata": {
        "id": "VWqZ_m6EcT0G",
        "outputId": "7a68e44b-8eaf-41b2-b914-dafc33686310",
        "colab": {
          "base_uri": "https://localhost:8080/",
          "height": 35
        }
      },
      "source": [
        "palindrome(\"malayalam\")"
      ],
      "execution_count": null,
      "outputs": [
        {
          "output_type": "execute_result",
          "data": {
            "application/vnd.google.colaboratory.intrinsic+json": {
              "type": "string"
            },
            "text/plain": [
              "'Palindrome'"
            ]
          },
          "metadata": {
            "tags": []
          },
          "execution_count": 54
        }
      ]
    },
    {
      "cell_type": "markdown",
      "metadata": {
        "id": "-Ozy4LMPkaPn"
      },
      "source": [
        "#Write a python program to print multiplication table of a number"
      ]
    },
    {
      "cell_type": "code",
      "metadata": {
        "id": "5_SbE5nFjkiD"
      },
      "source": [
        "def table(number,start,end): \n",
        "\tfor i in range (start, end+1): \n",
        "\t\tprint (\"%d * %d = %d\" % (number, i, number * i) )"
      ],
      "execution_count": null,
      "outputs": []
    },
    {
      "cell_type": "code",
      "metadata": {
        "id": "LgqdrgU5c_ml",
        "outputId": "f32b237a-2af6-4367-95a8-a3b6b59db7e9",
        "colab": {
          "base_uri": "https://localhost:8080/",
          "height": 187
        }
      },
      "source": [
        "table(5,1,10)"
      ],
      "execution_count": null,
      "outputs": [
        {
          "output_type": "stream",
          "text": [
            "5 * 1 = 5\n",
            "5 * 2 = 10\n",
            "5 * 3 = 15\n",
            "5 * 4 = 20\n",
            "5 * 5 = 25\n",
            "5 * 6 = 30\n",
            "5 * 7 = 35\n",
            "5 * 8 = 40\n",
            "5 * 9 = 45\n",
            "5 * 10 = 50\n"
          ],
          "name": "stdout"
        }
      ]
    },
    {
      "cell_type": "code",
      "metadata": {
        "id": "piyCy7_9dOGl",
        "outputId": "f8df53e4-6f96-49eb-9dcf-94d3ceb7fe27",
        "colab": {
          "base_uri": "https://localhost:8080/",
          "height": 357
        }
      },
      "source": [
        "table(5,1,20)"
      ],
      "execution_count": null,
      "outputs": [
        {
          "output_type": "stream",
          "text": [
            "5 * 1 = 5\n",
            "5 * 2 = 10\n",
            "5 * 3 = 15\n",
            "5 * 4 = 20\n",
            "5 * 5 = 25\n",
            "5 * 6 = 30\n",
            "5 * 7 = 35\n",
            "5 * 8 = 40\n",
            "5 * 9 = 45\n",
            "5 * 10 = 50\n",
            "5 * 11 = 55\n",
            "5 * 12 = 60\n",
            "5 * 13 = 65\n",
            "5 * 14 = 70\n",
            "5 * 15 = 75\n",
            "5 * 16 = 80\n",
            "5 * 17 = 85\n",
            "5 * 18 = 90\n",
            "5 * 19 = 95\n",
            "5 * 20 = 100\n"
          ],
          "name": "stdout"
        }
      ]
    }
  ]
}